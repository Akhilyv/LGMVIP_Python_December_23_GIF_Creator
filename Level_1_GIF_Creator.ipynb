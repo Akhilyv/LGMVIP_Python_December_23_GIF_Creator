{
  "nbformat": 4,
  "nbformat_minor": 0,
  "metadata": {
    "colab": {
      "provenance": []
    },
    "kernelspec": {
      "name": "python3",
      "display_name": "Python 3"
    },
    "language_info": {
      "name": "python"
    }
  },
  "cells": [
    {
      "cell_type": "markdown",
      "source": [
        "# **Level-1 GIF Creator**"
      ],
      "metadata": {
        "id": "mzqo2EPKh4dz"
      }
    },
    {
      "cell_type": "code",
      "execution_count": 1,
      "metadata": {
        "colab": {
          "base_uri": "https://localhost:8080/"
        },
        "id": "maCiOQYnfsaB",
        "outputId": "0ca0da26-cfe7-4255-dc9e-6149f5584e04"
      },
      "outputs": [
        {
          "output_type": "stream",
          "name": "stdout",
          "text": [
            "Requirement already satisfied: moviepy in /usr/local/lib/python3.10/dist-packages (1.0.3)\n",
            "Requirement already satisfied: decorator<5.0,>=4.0.2 in /usr/local/lib/python3.10/dist-packages (from moviepy) (4.4.2)\n",
            "Requirement already satisfied: tqdm<5.0,>=4.11.2 in /usr/local/lib/python3.10/dist-packages (from moviepy) (4.66.1)\n",
            "Requirement already satisfied: requests<3.0,>=2.8.1 in /usr/local/lib/python3.10/dist-packages (from moviepy) (2.31.0)\n",
            "Requirement already satisfied: proglog<=1.0.0 in /usr/local/lib/python3.10/dist-packages (from moviepy) (0.1.10)\n",
            "Requirement already satisfied: numpy>=1.17.3 in /usr/local/lib/python3.10/dist-packages (from moviepy) (1.23.5)\n",
            "Requirement already satisfied: imageio<3.0,>=2.5 in /usr/local/lib/python3.10/dist-packages (from moviepy) (2.31.6)\n",
            "Requirement already satisfied: imageio-ffmpeg>=0.2.0 in /usr/local/lib/python3.10/dist-packages (from moviepy) (0.4.9)\n",
            "Requirement already satisfied: pillow<10.1.0,>=8.3.2 in /usr/local/lib/python3.10/dist-packages (from imageio<3.0,>=2.5->moviepy) (9.4.0)\n",
            "Requirement already satisfied: setuptools in /usr/local/lib/python3.10/dist-packages (from imageio-ffmpeg>=0.2.0->moviepy) (67.7.2)\n",
            "Requirement already satisfied: charset-normalizer<4,>=2 in /usr/local/lib/python3.10/dist-packages (from requests<3.0,>=2.8.1->moviepy) (3.3.2)\n",
            "Requirement already satisfied: idna<4,>=2.5 in /usr/local/lib/python3.10/dist-packages (from requests<3.0,>=2.8.1->moviepy) (3.6)\n",
            "Requirement already satisfied: urllib3<3,>=1.21.1 in /usr/local/lib/python3.10/dist-packages (from requests<3.0,>=2.8.1->moviepy) (2.0.7)\n",
            "Requirement already satisfied: certifi>=2017.4.17 in /usr/local/lib/python3.10/dist-packages (from requests<3.0,>=2.8.1->moviepy) (2023.11.17)\n"
          ]
        }
      ],
      "source": [
        "pip install moviepy"
      ]
    },
    {
      "cell_type": "code",
      "source": [
        "from moviepy.editor import ImageSequenceClip\n",
        "from PIL import Image\n",
        "import os\n",
        "data_path = '/content/sample_data/'"
      ],
      "metadata": {
        "id": "UHm1UxWXiYiL"
      },
      "execution_count": 2,
      "outputs": []
    },
    {
      "cell_type": "code",
      "source": [
        "def create_gif(image_list, gif_path, fps=2):\n",
        "  image_paths = [os.path.join(data_path, image_name) for image_name in image_list]\n",
        "  resized_images = [resize_image(image_path) for image_path in image_paths]\n",
        "  clip = ImageSequenceClip(image_paths, fps = fps)\n",
        "  clip.write_gif(gif_path, fps = fps)\n",
        "\n",
        "def resize_image(image_path, target_size=(400, 400)):\n",
        "    # Resize an image to the specified target size\n",
        "    image = Image.open(image_path)\n",
        "    resized_image = image.resize(target_size)\n",
        "    return resized_image\n",
        "\n",
        "if __name__ == \"__main__\":\n",
        "  images = [\"b1.JPG\",\"b2.JPG\",\"b3.JPG\",\"b4.JPG\"]\n",
        "  output_gif_path = \"/content/output.gif\"\n",
        "  create_gif(images, output_gif_path)"
      ],
      "metadata": {
        "colab": {
          "base_uri": "https://localhost:8080/"
        },
        "id": "hE_bt0OYizvc",
        "outputId": "673ac2f3-da1c-4f8b-c37a-57eaf0c0918d"
      },
      "execution_count": 3,
      "outputs": [
        {
          "output_type": "stream",
          "name": "stdout",
          "text": [
            "MoviePy - Building file /content/output.gif with imageio.\n"
          ]
        },
        {
          "output_type": "stream",
          "name": "stderr",
          "text": []
        }
      ]
    },
    {
      "cell_type": "code",
      "source": [
        "from PIL import Image\n",
        "from moviepy.editor import ImageSequenceClip\n",
        "import os\n",
        "\n",
        "def create_gif(image_list, gif_path, fps=2, size_threshold=(200, 200), social_media_size=(1080, 1080), mobile_size=(800, 800)):\n",
        "    # image_list: list of image file names\n",
        "    # gif_path: path to save the GIF\n",
        "    # fps: frames per second (default is 2)\n",
        "    # size_threshold: images below this size will be omitted\n",
        "    # social_media_size: recommended size for social media platforms (default is 1080x1080)\n",
        "    # mobile_size: recommended size for mobile devices (default is 800x800)\n",
        "\n",
        "    data_path = '/content/sample_data/'  # Adjust the path as needed\n",
        "    image_paths = [os.path.join(data_path, image_name) for image_name in image_list]\n",
        "\n",
        "    # Filter out images below the size threshold\n",
        "    filtered_images = [image_path for image_path in image_paths if get_image_size(image_path) >= size_threshold]\n",
        "\n",
        "    # Resize remaining images to recommended sizes\n",
        "    resized_images = [resize_image(image_path, social_media_size) if social_media_size else resize_image(image_path, mobile_size) for image_path in filtered_images]\n",
        "\n",
        "    if resized_images:\n",
        "        # Create the GIF only if there are resized images\n",
        "        clip = ImageSequenceClip(resized_images, fps=fps)\n",
        "        clip.write_gif(gif_path, fps=fps)\n",
        "    else:\n",
        "        print(\"No images meet the size criteria. GIF not created.\")\n",
        "\n",
        "def get_image_size(image_path):\n",
        "    # Get the size of an image\n",
        "    with Image.open(image_path) as img:\n",
        "        return img.size\n",
        "\n",
        "def resize_image(image_path, target_size=(400, 400)):\n",
        "    # Resize an image to the specified target size\n",
        "    with Image.open(image_path) as image:\n",
        "        resized_image = image.resize(target_size)\n",
        "    return resized_image\n"
      ],
      "metadata": {
        "id": "XU6GUgAvEk51"
      },
      "execution_count": null,
      "outputs": []
    }
  ]
}